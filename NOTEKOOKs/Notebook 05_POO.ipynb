{
 "cells": [
  {
   "cell_type": "markdown",
   "metadata": {},
   "source": [
    "Programación Orientada a Objetos(POO) en Python"
   ]
  },
  {
   "cell_type": "markdown",
   "metadata": {},
   "source": [
    "Author: Camila\n",
    "Fecha: 06/02/2025\n",
    "## 1. Introducción a la POO \n",
    "- ¿Qué es la POO? \n",
    "- Características principales \n",
    "- Comparación con la programación estructurada \n",
    "  \n",
    "## 2. Conceptos Claves de la POO \n",
    "- Clases y Objetos \n",
    "- Atributos y Métodos \n",
    "- Encapsulamiento \n",
    "- Herencia \n",
    "- Polimorfismo \n",
    "  \n",
    "## 3. Ejemplos Prácticos de cada Concepto \n",
    "- Definir una clase simple \n",
    "- Crear y manipular objetos \n",
    "- Aplicar herencia y polimorfismo \n",
    "  \n",
    "## 4. Desarrollo de un Proyecto Aplicado \n",
    "- Descripción del proyecto \n",
    "- Implementación paso a paso \n",
    "  \n",
    "--- \n",
    "  \n",
    "## 🟢 1. Introducción a la POO \n",
    "La **Programación Orientada a Objetos (POO)** es un paradigma de programación basado en la idea de modelar entidades del mundo real a través de **objetos**. \n",
    "  \n",
    "### ✅ Características clave de la POO: \n",
    "- **Abstracción:** Modela objetos del mundo real en código. \n",
    "- **Encapsulamiento:** Protege los datos y métodos dentro de una clase. \n",
    "- **Herencia:** Permite reutilizar código mediante la relación padre-hijo. \n",
    "- **Polimorfismo:** Usa el mismo método con diferentes implementaciones. \n",
    "  \n",
    "### 📌 Diferencia entre programación estructurada y POO: \n",
    "  \n",
    "| Característica       | Programación Estructurada | Programación Orientada a Objetos | \n",
    "|---------------------|------------------------|--------------------------------| \n",
    "| **Organización**   | Basada en funciones    | Basada en clases y objetos    | \n",
    "| **Reutilización**  | Baja                   | Alta                          | \n",
    "| **Mantenimiento**  | Más complejo           | Más modular y escalable      | \n",
    "\n",
    "\n",
    "\n",
    "\n",
    "\n"
   ]
  },
  {
   "cell_type": "markdown",
   "metadata": {},
   "source": [
    "2. Conceptos Claves de la POO en Python\n",
    "📌 Clases y Objetos\n",
    "En Python, una clase es un *modelo* que define la estructura y comportamiento de un objeto. Un objeto es una instancia de una clase."
   ]
  },
  {
   "cell_type": "code",
   "execution_count": 2,
   "metadata": {},
   "outputs": [
    {
     "name": "stdout",
     "output_type": "stream",
     "text": [
      "<class 'list'>\n"
     ]
    }
   ],
   "source": [
    "lista = [0,1,2,3]\n",
    "print(type(lista))\n",
    "\n",
    "class Persona:\n",
    "    def __init__(self,name,age):\n",
    "        self.nombre = name\n",
    "        self.edad = age\n",
    "\n",
    "\n",
    "estudiante = Persona('Emmanuel Alfaro',28)\n",
    "estudiante2 = Persona('Mariana Villalobos', 25)\n",
    "profesor = Persona('Andrés Mena',33)\n",
    "\n",
    "\n",
    "print (f'El objetos {id(estudiante)} tiene el atributo nombre como {estudiante.nombre}')\n",
    "print (f'El objetos {id(estudiante2)} tiene el atributo nombre como {estudiante2.nombre}')\n",
    "print (f'El objetos {id(profesor)} tiene el atributo nombre como {profesor.nombre}')\n"
   ]
  },
  {
   "cell_type": "code",
   "execution_count": 3,
   "metadata": {},
   "outputs": [
    {
     "name": "stdout",
     "output_type": "stream",
     "text": [
      "El objetos 2554822019456 tiene el atributo nombre como andrea\n",
      "El objetos 2554820027856 tiene el atributo nombre como natalia\n",
      "El objetos 2554820029136 tiene el atributo nombre como carlos\n"
     ]
    }
   ],
   "source": [
    "\n",
    "class Persona:\n",
    "    def __init__(self):\n",
    "        self.nombre = input('Ingrese su nombre Porfavor: ')\n",
    "        self.edad = int(input('Ingrese su edad: '))\n",
    "\n",
    "\n",
    "estudiante = Persona()\n",
    "estudiante2 = Persona()\n",
    "profesor = Persona()\n",
    "\n",
    "\n",
    "print (f'El objetos {id(estudiante)} tiene el atributo nombre como {estudiante.nombre}')\n",
    "print (f'El objetos {id(estudiante2)} tiene el atributo nombre como {estudiante2.nombre}')\n",
    "print (f'El objetos {id(profesor)} tiene el atributo nombre como {profesor.nombre}')\n"
   ]
  },
  {
   "cell_type": "code",
   "execution_count": null,
   "metadata": {},
   "outputs": [],
   "source": [
    "class Persona:\n",
    "    def __init__(self,nombre,age):\n",
    "        self.nombre = nombre\n",
    "        self.edad = age\n",
    "        self.activo = True\n",
    "        self.materias = []\n",
    "\n",
    "\n",
    "    def saludar(self): #Método\n",
    "        if self.activo:\n",
    "            print(f'Hola, mi nombre es {self.nombre} y tengo {self.edad} años')\n",
    "        else:\n",
    "            print(f'Este objeto {self.nombre}  no puede saludar, porque esta declarado como Inactivo')\n",
    "    def imprimir_materias(self):\n",
    "        print(*self.materias) \n",
    "    \n",
    "estudiante = Persona('Emmanuel Alfaro',28)\n",
    "estudiante2 = Persona('Mariana Villalobos', 25)\n",
    "profesor = Persona('Andrés Mena',33)\n",
    "\n",
    "\n",
    "\n",
    "\n",
    "print (f'El objetos {id(estudiante)} tiene el atributo nombre como {estudiante.nombre}')\n",
    "print (f'El objetos {id(estudiante2)} tiene el atributo nombre como {estudiante2.nombre}')\n",
    "print (f'El objetos {id(profesor)} tiene el atributo nombre como {profesor.nombre}')\n",
    "\n",
    "\n",
    "#Llamada a un método de la clase\n",
    "estudiante.saludar()\n",
    "estudiante.materias = ['Matematicas','Historia','Biologia']\n",
    "estudiante.imprimir_materias()\n",
    "\n",
    "\n",
    "\n",
    "profesor.activo = False\n",
    "profesor.imprimir_materias()\n",
    "profesor.saludar()"
   ]
  },
  {
   "cell_type": "code",
   "execution_count": null,
   "metadata": {},
   "outputs": [],
   "source": [
    "#Crear una clase\n",
    "class carro:\n",
    "    def __init__(self,num_matricula,modelo,marca):\n",
    "        self.matricula = num_matricula\n",
    "        self.modelo = modelo\n",
    "        self.marca = marca\n",
    "        self.ecendido = True #Estáticos\n",
    "        self.fallas = []\n",
    "        \n",
    "    def reporte_fallas(self):\n",
    "        self.fallas.append(input(\"Ingrese el detalla del reporte de la falla: \"))\n",
    "        \n",
    "    def reporte_estado(self):\n",
    "        print(f'\\nEl carro matricúla {self.matricula}, marca {self.marca}')\n",
    "        print('---- REPORTE DE FALLAS----')\n",
    "        for elemento in self.fallas:\n",
    "            print(elemento)\n",
    "    \n",
    "mi_carro = carro('123ASD',2017,'Mitsubichi Lancer')\n",
    "mi_carro_trabajo = carro('QWERTY',2025,'Toyota Hilux')\n",
    "\n",
    "mi_carro.reporte_fallas()\n",
    "mi_carro.reporte_estado()\n",
    "\n",
    "mi_cochera = [mi_carro,mi_carro_trabajo] \n",
    "\n",
    "mi_carro_trabajo.reporte_estado()\n",
    "#print(mi_carro.marca)\n",
    "#print(mi_carro_trabajo.marca)\n"
   ]
  },
  {
   "cell_type": "markdown",
   "metadata": {},
   "source": [
    " Atributos y Métodos\n",
    "Los atributos representan las propiedades de un objeto, y los métodos son las funciones que definen su comportamiento."
   ]
  },
  {
   "cell_type": "markdown",
   "metadata": {},
   "source": [
    " 📌 Ejercicio 1: Calculadora de Descuento  \n",
    "📍 **Objetivo:** Crear una clase que calcule el precio final de un producto aplicando un descuento.  \n",
    "\n",
    "\n",
    "### 🔹 **Instrucciones:**  \n",
    "1. Crear una clase llamada `Producto` con los siguientes atributos:  \n",
    "   - `nombre` (nombre del producto)  \n",
    "   - `precio` (precio original del producto)  \n",
    "   - `descuento` (porcentaje de descuento en decimal, por ejemplo, 0.2 para 20%)  \n",
    "2. Implementar un método llamado `precio_final()` que retorne el precio con el descuento aplicado.  \n",
    "3. Crear un objeto de la clase con un producto de tu elección y mostrar el precio final.  \n",
    "\n",
    "\n",
    "### 🔹 **Ejemplo de uso esperado:**  \n",
    "```python\n",
    "mi_producto = Producto(\"Zapatos\", 50.0, 0.15) \n",
    "print(f\"El precio final de {mi_producto.nombre} es: ${mi_producto.precio_final()}\")\n"
   ]
  },
  {
   "cell_type": "code",
   "execution_count": 10,
   "metadata": {},
   "outputs": [
    {
     "ename": "NameError",
     "evalue": "name 'Producto' is not defined",
     "output_type": "error",
     "traceback": [
      "\u001b[1;31m---------------------------------------------------------------------------\u001b[0m",
      "\u001b[1;31mNameError\u001b[0m                                 Traceback (most recent call last)",
      "Cell \u001b[1;32mIn[10], line 1\u001b[0m\n\u001b[1;32m----> 1\u001b[0m \u001b[38;5;28;43;01mclass\u001b[39;49;00m\u001b[38;5;250;43m \u001b[39;49m\u001b[38;5;21;43;01mProducto\u001b[39;49;00m\u001b[43m:\u001b[49m\n\u001b[0;32m      2\u001b[0m \u001b[43m    \u001b[49m\u001b[38;5;28;43;01mdef\u001b[39;49;00m\u001b[38;5;250;43m \u001b[39;49m\u001b[38;5;21;43m__init__\u001b[39;49m\u001b[43m(\u001b[49m\u001b[38;5;28;43mself\u001b[39;49m\u001b[43m,\u001b[49m\u001b[43mnombre\u001b[49m\u001b[43m,\u001b[49m\u001b[43mprecio\u001b[49m\u001b[43m,\u001b[49m\u001b[43mdescuento\u001b[49m\u001b[43m)\u001b[49m\u001b[43m:\u001b[49m\n\u001b[0;32m      3\u001b[0m \u001b[43m        \u001b[49m\u001b[38;5;28;43mself\u001b[39;49m\u001b[38;5;241;43m.\u001b[39;49m\u001b[43mnombre\u001b[49m\u001b[43m \u001b[49m\u001b[38;5;241;43m=\u001b[39;49m\u001b[43m \u001b[49m\u001b[43mname\u001b[49m\n",
      "Cell \u001b[1;32mIn[10], line 7\u001b[0m, in \u001b[0;36mProducto\u001b[1;34m()\u001b[0m\n\u001b[0;32m      4\u001b[0m     \u001b[38;5;28mself\u001b[39m\u001b[38;5;241m.\u001b[39mprecio \u001b[38;5;241m=\u001b[39m price\n\u001b[0;32m      5\u001b[0m     \u001b[38;5;28mself\u001b[39m\u001b[38;5;241m.\u001b[39mdescuento \u001b[38;5;241m=\u001b[39m discount\n\u001b[1;32m----> 7\u001b[0m mi_producto \u001b[38;5;241m=\u001b[39m \u001b[43mProducto\u001b[49m(\u001b[38;5;124m\"\u001b[39m\u001b[38;5;124mManzana\u001b[39m\u001b[38;5;124m\"\u001b[39m, \u001b[38;5;241m200\u001b[39m, \u001b[38;5;241m0\u001b[39m,\u001b[38;5;241m5\u001b[39m)     \n\u001b[0;32m      8\u001b[0m mi_producto\u001b[38;5;241m.\u001b[39mprecio_final()\n\u001b[0;32m     10\u001b[0m \u001b[38;5;28mprint\u001b[39m(\u001b[38;5;124mf\u001b[39m\u001b[38;5;124m\"\u001b[39m\u001b[38;5;124mEl precio final de \u001b[39m\u001b[38;5;132;01m{\u001b[39;00mmi_producto\u001b[38;5;241m.\u001b[39mporcentaje\u001b[38;5;132;01m}\u001b[39;00m\u001b[38;5;124m es: $\u001b[39m\u001b[38;5;132;01m{\u001b[39;00mmi_producto\u001b[38;5;241m.\u001b[39mprecio_final()\u001b[38;5;132;01m}\u001b[39;00m\u001b[38;5;124m\"\u001b[39m)\n",
      "\u001b[1;31mNameError\u001b[0m: name 'Producto' is not defined"
     ]
    }
   ],
   "source": [
    "class Producto:\n",
    "    def __init__(self,nombre,precio,descuento):\n",
    "        self.nombre = name\n",
    "        self.precio = price\n",
    "        self.descuento = discount\n",
    "        \n",
    "    mi_producto = Producto(\"Manzana\", 200, 0,5)     \n",
    "    mi_producto.precio_final()\n",
    "    \n",
    "    print(f\"El precio final de {mi_producto.porcentaje} es: ${mi_producto.precio_final()}\")\n",
    "    "
   ]
  },
  {
   "cell_type": "code",
   "execution_count": null,
   "metadata": {},
   "outputs": [
    {
     "name": "stdout",
     "output_type": "stream",
     "text": [
      "El precio final de Zapatos es: $42.5\n"
     ]
    }
   ],
   "source": [
    "class Producto:\n",
    "    def __init__(self, nombre, precio, descuento):\n",
    "        \"\"\"Constructor de la clase Producto\"\"\"\n",
    "        self.nombre = nombre\n",
    "        self.precio = precio\n",
    "        self.descuento = descuento  # El descuento se representa como un decimal (ej. 0.2 para 20%)\n",
    "\n",
    "    def precio_final(self):\n",
    "        \"\"\"Método para calcular el precio final con el descuento aplicado\"\"\"\n",
    "        precio_descuento = self.precio * (1 - self.descuento)\n",
    "        return round(precio_descuento, 2)  # Redondeamos el resultado a 2 decimales\n",
    "\n",
    "# Crear un objeto de la clase Producto\n",
    "mi_producto = Producto(\"Zapatos\", 50.0, 0.15)\n",
    "mi_camisa = Producto('Camiseta de lana', 10,0.1)\n",
    "\n",
    "# Mostrar el precio final con el descuento aplicado\n",
    "print(f\"El precio final de {mi_producto.nombre} es: ${mi_producto.precio_final()}\")\n"
   ]
  },
  {
   "cell_type": "markdown",
   "metadata": {},
   "source": [
    "Ejercicio 2: Registro de Estudiantes  \n",
    "📍 **Objetivo:** Crear una clase para almacenar información de estudiantes y mostrar sus datos.  \n",
    "\n",
    "\n",
    "### 🔹 Instrucciones:  \n",
    "\n",
    "\n",
    "1. Crear una clase llamada `Estudiante` con los siguientes atributos:  \n",
    "   - `nombre`  \n",
    "   - `edad`  \n",
    "   - `grado`  \n",
    "\n",
    "\n",
    "2. Implementar un método llamado `mostrar_info()` que imprima la información del estudiante en un formato legible.  \n",
    "\n",
    "\n",
    "3. Crear **dos instancias** de la clase `Estudiante` y llamar al método `mostrar_info()` en cada una.  "
   ]
  },
  {
   "cell_type": "code",
   "execution_count": null,
   "metadata": {},
   "outputs": [],
   "source": [
    "class Estudiante:\n",
    "    def __init__(self,name,age,grade):\n",
    "        self.name = nombre\n",
    "        self.age = edad\n",
    "        self.grade = grado\n",
    "    estudiante = Estudiante"
   ]
  },
  {
   "cell_type": "code",
   "execution_count": null,
   "metadata": {},
   "outputs": [
    {
     "name": "stdout",
     "output_type": "stream",
     "text": [
      "Firulais : Guau guau\n",
      "Michi : Miau miau\n",
      "desconocido :  Hace un sonido\n"
     ]
    }
   ],
   "source": [
    "class gato(Animal):\n",
    "    def hacer_sonido(self):\n",
    "        return f\"Miau miau\"\n",
    "    \n",
    "animales = [perro('Firulais'),gato('Michi'),Animal('desconocido')]\n",
    "\n",
    "for animal in animales:\n",
    "    print(animal.nombre, \":\",animal.hacer_sonido())"
   ]
  },
  {
   "cell_type": "markdown",
   "metadata": {},
   "source": [
    "📌 Encapsulamiento\n",
    "El encapsulamiento oculta detalles internos de un objeto para restringir el acceso a sus atributos.\n",
    "\n",
    "\n",
    "\n",
    "🔒 __saldo es un atributo privado, solo accesible desde métodos de la misma clase."
   ]
  },
  {
   "cell_type": "code",
   "execution_count": null,
   "metadata": {},
   "outputs": [],
   "source": [
    "class CuentaBancaria:\n",
    "    def __init__(self, titular, saldo):\n",
    "        self.titular = titular\n",
    "        self.__saldo = saldo  # Atributo privado\n",
    "    cuenta_ahorros = \n",
    "    \n",
    "    class CuentaBancaria:\n",
    "    def __init__(self, titular, saldo):\n",
    "        self.titular = titular\n",
    "        self.__saldo = saldo  # Atributo privado\n",
    "    \n",
    "    def mostra_saldo(self):\n",
    "        print(f'El saldo de {self.titular} en la cuenta es: ${cuenta_ahorros.__saldo}')\n",
    "    \n",
    "    def depositar(self, cantidad):\n",
    "        self.__saldo += cantidad\n",
    "\n",
    "\n",
    "cuenta_ahorros = CuentaBancaria('Kevin', 450)\n",
    "\n",
    "\n",
    "\n",
    "cuenta_ahorros.titular = 'Andrés' #Modificar atributo público\n",
    "cuenta_ahorros.depositar(100)\n",
    "\n",
    "\n",
    "\n",
    "cuenta_ahorros.mostra_saldo()\n"
   ]
  },
  {
   "cell_type": "markdown",
   "metadata": {},
   "source": [
    "📌 Herencia\n",
    "La herencia permite que una clase hija herede atributos y métodos de una clase padre."
   ]
  },
  {
   "cell_type": "code",
   "execution_count": null,
   "metadata": {},
   "outputs": [],
   "source": [
    "class Animal:\n",
    "    def __init__(self, nombre):\n",
    "        self.nombre = nombre\n",
    "\n",
    "\n",
    "    def hacer_sonido(self):\n",
    "        return \"Hace un sonido\""
   ]
  },
  {
   "cell_type": "code",
   "execution_count": null,
   "metadata": {},
   "outputs": [
    {
     "name": "stdout",
     "output_type": "stream",
     "text": [
      "Guau guau\n"
     ]
    }
   ],
   "source": [
    "class Animal:\n",
    "    def __init__(self, nombre,especie='Mamifero'):\n",
    "        self.nombre = nombre\n",
    "        self.especie = especie\n",
    "\n",
    "    def hacer_sonido(self):\n",
    "        return f\" Hace un sonido\"\n",
    "    \n",
    "class perro(Animal): # Clase hija que Hereda de la clase animal\n",
    "    \n",
    "    def hacer_sonido(self):\n",
    "        return f\"Guau guau\"\n",
    "\n",
    "pancho = perro('Pancho','Mamifero')\n",
    "\n",
    "print(pancho.hacer_sonido())"
   ]
  },
  {
   "cell_type": "markdown",
   "metadata": {},
   "source": [
    "### 📌 Polimorfismo\n",
    "El polimorfismo permite usar un mismo método con diferentes implementaciones."
   ]
  },
  {
   "cell_type": "code",
   "execution_count": null,
   "metadata": {},
   "outputs": [
    {
     "name": "stdout",
     "output_type": "stream",
     "text": [
      "Firulais : Guau guau\n",
      "Michi : Miau miau\n",
      "desconocido :  Hace un sonido\n"
     ]
    }
   ],
   "source": [
    "class gato(Animal):\n",
    "    def hacer_sonido(self):\n",
    "        return f\"Miau miau\"\n",
    "    \n",
    "animales = [perro('Firulais'),gato('Michi'),Animal('desconocido')]\n",
    "\n",
    "for animal in animales:\n",
    "    print(animal.nombre, \":\",animal.hacer_sonido())"
   ]
  }
 ],
 "metadata": {
  "kernelspec": {
   "display_name": "Python 3",
   "language": "python",
   "name": "python3"
  },
  "language_info": {
   "codemirror_mode": {
    "name": "ipython",
    "version": 3
   },
   "file_extension": ".py",
   "mimetype": "text/x-python",
   "name": "python",
   "nbconvert_exporter": "python",
   "pygments_lexer": "ipython3",
   "version": "3.13.1"
  }
 },
 "nbformat": 4,
 "nbformat_minor": 2
}
