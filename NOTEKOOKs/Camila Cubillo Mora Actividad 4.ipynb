{
 "cells": [
  {
   "cell_type": "markdown",
   "metadata": {},
   "source": [
    "Estudiante: Camila Cubillo Mora\n",
    "Fecha entrega: 08/02/2025\n",
    "Actividad 04"
   ]
  },
  {
   "cell_type": "markdown",
   "metadata": {},
   "source": [
    "Este notobooh se ha desarrollado para estudiar la influencia de las funciones en Python en\n",
    "la modularizacion y eficiencia de los programas en desarrollo de software"
   ]
  },
  {
   "cell_type": "markdown",
   "metadata": {},
   "source": [
    "1 Definición y Propósito de las Funciones en Python"
   ]
  },
  {
   "cell_type": "markdown",
   "metadata": {},
   "source": [
    "1.1 ¿Que son las funciones?\n"
   ]
  },
  {
   "cell_type": "markdown",
   "metadata": {},
   "source": [
    "Una función(es) es un bloque de código fuente que conlleva una serie de instrucciones que realizan algo explicito y puede ser utilizado(s) desde el código redactado por la persona las veces necesarias."
   ]
  },
  {
   "cell_type": "code",
   "execution_count": 29,
   "metadata": {},
   "outputs": [
    {
     "name": "stdout",
     "output_type": "stream",
     "text": [
      "¡hola mundo!\n"
     ]
    }
   ],
   "source": [
    "def saludar():\n",
    "    print(\"¡hola mundo!\")\n",
    "saludar() "
   ]
  },
  {
   "cell_type": "markdown",
   "metadata": {},
   "source": [
    "1.2 Beneficios de modularizar código con funciones \n",
    "\n"
   ]
  },
  {
   "cell_type": "markdown",
   "metadata": {},
   "source": [
    "Las funciones son de gran importancia ya que permiten fraccionar el codigo en multiples modulos lo cual hace que el codigo fuente sea mas práctico de leer, depurar y mantener."
   ]
  },
  {
   "cell_type": "code",
   "execution_count": null,
   "metadata": {},
   "outputs": [],
   "source": [
    "def puntuación(alumno1,alumno2,alumno3):\n",
    "    suma = alumno1 + alumno2 + alumno3\n",
    "    return sum / 3\n",
    "media = puntuación(9,6,8)\n",
    "print(\"La puntuacion de esta clase es:\", media)"
   ]
  },
  {
   "cell_type": "markdown",
   "metadata": {},
   "source": [
    "1.3 Importancia de la reutilización del codigo"
   ]
  },
  {
   "cell_type": "markdown",
   "metadata": {},
   "source": [
    "La importancia de la reutilización del código radica en que las funciones que se utilizaron en un código pueden ser de utilidad en el desarrollo de otro código."
   ]
  },
  {
   "cell_type": "code",
   "execution_count": null,
   "metadata": {},
   "outputs": [],
   "source": [
    "def obtener_resta(num1,num2):\n",
    "    return num1 - num2 * (num1 // num2)\n",
    "def es_multlipo(x,y):\n",
    "    return obtener_resta(x,y) == 0\n",
    "a = int(input(\"Primer numero: \"))\n",
    "b = int(input(\"Segundo numero: \"))\n",
    "restar = obtener_resta(a,b)\n",
    "print(f\"El resultado entre {a} y {b} es {restar}\")\n",
    "if es_multlipo(a,b) == True:\n",
    "    print(f\"{a} es multlipo de {b}\")\n",
    "else:\n",
    "    print(f\"{a} no es multiplo de {b}\")"
   ]
  },
  {
   "cell_type": "markdown",
   "metadata": {},
   "source": [
    "2 Tipos de Funciones"
   ]
  },
  {
   "cell_type": "markdown",
   "metadata": {},
   "source": [
    "2.1 Funciones con y sin retorno"
   ]
  },
  {
   "cell_type": "markdown",
   "metadata": {},
   "source": [
    "2.1.1 Funciones con retorno"
   ]
  },
  {
   "cell_type": "markdown",
   "metadata": {},
   "source": [
    "Las funciones con retono son aquellas funciones que tienen la capacidad de devolver valores por medio de la función \"return\". En si son valores que han funcionado en algun momento y se requiere utilizarlos de nuevo."
   ]
  },
  {
   "cell_type": "code",
   "execution_count": null,
   "metadata": {},
   "outputs": [],
   "source": [
    "valores = 4,3,5\n",
    "def multiplicación(valores):\n",
    "    resultado = multiplicación(valores)\n",
    "    return resultado\n",
    "resultado = multiplicación(valores)\n",
    "print(resultado)"
   ]
  },
  {
   "cell_type": "markdown",
   "metadata": {},
   "source": [
    "2.1.2 Funciones sin retorno"
   ]
  },
  {
   "cell_type": "markdown",
   "metadata": {},
   "source": [
    "Las funciones sin retorno son aquellas funciones que no tiene la capacidad de devolver valores, no cuentan con la función de \"return\". Estos métodos realizan alguna operación, dentro de todo el programa, pero su objetivo que realizar sentencias que afecten a otras líneas de código como parte de un todo. "
   ]
  },
  {
   "cell_type": "code",
   "execution_count": null,
   "metadata": {},
   "outputs": [],
   "source": [
    "def imprimir_simbolo(simbolo, veces):\n",
    "    for i in range(veces):\n",
    "        print(simbolo, end=\"\")\n",
    "        print()\n",
    "        \n",
    "imprimir_simbolo(\"$\", 3)\n",
    "imprimir_simbolo(\"%\", 4)\n",
    "imprimir_simbolo(\"A\", 2)"
   ]
  },
  {
   "cell_type": "markdown",
   "metadata": {},
   "source": [
    "2.2 Funciones con parámetros y valores predeterminados"
   ]
  },
  {
   "cell_type": "markdown",
   "metadata": {},
   "source": [
    "2.2.1 Funciones con parámetros"
   ]
  },
  {
   "cell_type": "markdown",
   "metadata": {},
   "source": [
    "Los parámetros facilitan la comunicación entre el programa y las funciones son parte de las funciones por que puede modificarles el comportamiento de su desarrollo ya adaptarlo a situaciones específicas. Al personarlizarse los parámetros, se aprovecha al máximo la versatilidad y utilidad de las funciones en diferentes códigos."
   ]
  },
  {
   "cell_type": "code",
   "execution_count": null,
   "metadata": {},
   "outputs": [],
   "source": [
    "def descripcion_persona(genero,nombre):\n",
    "    print(\"\\nLa persona es un\" + genero + \".\")\n",
    "    print(\"La persona\" + genero + \"se llama\" + nombre.title() + \".\" )\n",
    "descripcion_persona(genero = hombre, nombre = mateo)"
   ]
  },
  {
   "cell_type": "markdown",
   "metadata": {},
   "source": [
    "2.2.2 Valores predeterminados"
   ]
  },
  {
   "cell_type": "markdown",
   "metadata": {},
   "source": [
    "Se relacionan con varios tipos de datos que grarantiza el usuario se definen solo una vez y se pueden reutilizar varias veces."
   ]
  },
  {
   "cell_type": "code",
   "execution_count": null,
   "metadata": {},
   "outputs": [],
   "source": [
    "claves = [\"nombre\", \"edad\", \"ciudad\"]\n",
    "valor_predeterminado = \"Desconocido\"\n",
    "nuevo_diccionario = dict.fromkeys(claves, valor_predeterminado)\n",
    "print(nuevo_diccionario)"
   ]
  },
  {
   "cell_type": "markdown",
   "metadata": {},
   "source": [
    "2.3 Uso de *args* y **kwargs"
   ]
  },
  {
   "cell_type": "markdown",
   "metadata": {},
   "source": [
    "2.3.1 Uso de *args*"
   ]
  },
  {
   "cell_type": "markdown",
   "metadata": {},
   "source": [
    "Los argumentos en las funciones (args) son funciones que tienen argumentos los cuales son una lista de parametros que se puede integrar en las funciones sin haberla definido al momento de realizar las funciones. Se utiliza el signo de multiplicacion antes de redactar la variable en el parentesis de la funcion def y este automaticamente define una lista de argumentos que recibira la función."
   ]
  },
  {
   "cell_type": "code",
   "execution_count": null,
   "metadata": {},
   "outputs": [],
   "source": [
    "def suma(*args):\n",
    "    return args\n",
    "print(suma (3,5,4,2,1,7))"
   ]
  },
  {
   "cell_type": "markdown",
   "metadata": {},
   "source": [
    "2.3.2 Uso de **Kwargs"
   ]
  },
  {
   "cell_type": "markdown",
   "metadata": {},
   "source": [
    "Conocido como Keywords arguments en ingles trata de especificar la posicion de las variables utilizadas en la funcion, no importa el orden de los parametros pero en args si es de suma importancia. se utiliza esta funcion para retornar datos en una funcion o almavenarlos en un diccionario."
   ]
  },
  {
   "cell_type": "code",
   "execution_count": null,
   "metadata": {},
   "outputs": [],
   "source": [
    "def division(**Kwargs):\n",
    "    return kwargs\n",
    "print(division a=8, b=4, c=2, d=True, e=False)"
   ]
  },
  {
   "cell_type": "markdown",
   "metadata": {},
   "source": [
    "2.4 Funciones anónimas (lambda)"
   ]
  },
  {
   "cell_type": "markdown",
   "metadata": {},
   "source": [
    "Las funciones anónimas son funciones que no tienen nombre y se desarrolla en una sola linea y son utiles cuando se necesita una funcion simple y pequeña para una tarea especifica."
   ]
  },
  {
   "cell_type": "code",
   "execution_count": null,
   "metadata": {},
   "outputs": [],
   "source": [
    "def retornar_dulce(confite):\n",
    "    return confite[1]\n",
    "lista_confites = [('Menta',11),\n",
    "                  ('Limón',24),\n",
    "                  ('Piña',35),\n",
    "                  ('Fresa',46)]\n",
    "lista_ordenada = sorted(lista_confites,key=lambda X:X[1],reverse=True)\n",
    "print(lista_ordenada)"
   ]
  },
  {
   "cell_type": "markdown",
   "metadata": {},
   "source": [
    "2.5 Funciones Recursivas"
   ]
  },
  {
   "cell_type": "markdown",
   "metadata": {},
   "source": [
    "Son aquellas funciones que se llaman asi mismas, pueden resolver problemas dividiendolos en subproblemas más pequeños."
   ]
  },
  {
   "cell_type": "code",
   "execution_count": null,
   "metadata": {},
   "outputs": [],
   "source": [
    "def cuenta_regresiva(numero):\n",
    "    numero -= 1\n",
    "    if numero > 0:\n",
    "        print(numero)\n",
    "        cuenta_regresiva(numero=)\n",
    "    else:\n",
    "        print(\"Fin\")\n",
    "        print(f\"Orden de liberación {numero}\")\n",
    "    cuenta_regresiva(9)"
   ]
  },
  {
   "cell_type": "markdown",
   "metadata": {},
   "source": [
    "2.6 Generadores (yield)"
   ]
  },
  {
   "cell_type": "markdown",
   "metadata": {},
   "source": [
    "Los generadores son un concepto que puede obtener valores de una función y guardalos de uno en uno en objetos iterales, sin la necesidad de almacenarlos todos de una vez en la memoria ram de la computadora. La función yield es una palabra clave para el concepto de generadores y se utiliza para generar un objeto iteral y resguarda de uno en uno los valores que se le indique a yield. "
   ]
  },
  {
   "cell_type": "code",
   "execution_count": null,
   "metadata": {},
   "outputs": [],
   "source": [
    "def tabla_mutiplicar(numero,maximo=12):\n",
    "    for posicion in range(1,maximo*1):\n",
    "        yeild posicion * numero\n",
    "for resultado in tabla_mutiplicar(5,12):\n",
    "    print(resultado)"
   ]
  },
  {
   "cell_type": "markdown",
   "metadata": {},
   "source": [
    "2.7 Closures y decoradores"
   ]
  },
  {
   "cell_type": "markdown",
   "metadata": {},
   "source": [
    "2.7.1 Closures"
   ]
  },
  {
   "cell_type": "markdown",
   "metadata": {},
   "source": [
    "Los closures son funciones de tipo clase que pueden almacenar una función y en ella este definida una serie de variables o funciones que se pueden devolver los métodos publicos, y usarlos fuera de la función"
   ]
  },
  {
   "cell_type": "code",
   "execution_count": null,
   "metadata": {},
   "outputs": [],
   "source": [
    "def closurevalidar(a,b)\n",
    "    def validar():\n",
    "        if a>0 and b>0:\n",
    "            return True\n",
    "        else:\n",
    "            return False\n",
    "    return validar\n",
    "validado=closurevalidar(4,10)\n",
    "print(validado())"
   ]
  },
  {
   "cell_type": "code",
   "execution_count": null,
   "metadata": {},
   "outputs": [],
   "source": [
    "2.7_2 #Decoradores"
   ]
  },
  {
   "cell_type": "markdown",
   "metadata": {},
   "source": [
    "Los decoradores son herramientas que permiten agregar varios tipos de logica a las funciones, pueden administrar funciones sin necesidad de hacer cambios."
   ]
  },
  {
   "cell_type": "code",
   "execution_count": null,
   "metadata": {},
   "outputs": [],
   "source": [
    "import time\n",
    "def calcularTiempo(funcion):\n",
    "    \n",
    "   def funcion_modificada():\n",
    "       inicio = time.time()\n",
    "       funcion(n)\n",
    "       final = time.time()\n",
    "       print(f\"Ttiempo de ejecucion: {final - inicio}\")\n",
    "    return funcion_modificada   \n",
    "@calcularTiempo         \n",
    "def imprimirnumeros(n):\n",
    "        for i in range(n):\n",
    "            print(i)\n",
    "def suma(a,b):\n",
    "    return a + b  \n",
    "def resta(a,b):\n",
    "    return a - b\n",
    "\n",
    "     \n",
    "imprimirnumeros(10)  \n",
    "suma(10) \n",
    "resta(10)\n",
    " "
   ]
  },
  {
   "cell_type": "markdown",
   "metadata": {},
   "source": [
    "3 Aplicación de funciones en Problemas Reales"
   ]
  },
  {
   "cell_type": "markdown",
   "metadata": {},
   "source": [
    "3.1 Aplicación en estructuras de datos(listas, diccionarios)"
   ]
  },
  {
   "cell_type": "markdown",
   "metadata": {},
   "source": [
    "3.1.1 Aplicación de estructuras de datos con listas"
   ]
  },
  {
   "cell_type": "markdown",
   "metadata": {},
   "source": [
    "Las listas resguardan diferentes tipos de datos, se les puede cambiar o agregar los elememtos, se definen por corchetes [] y estan asociados a un indice que comienza desde cero."
   ]
  },
  {
   "cell_type": "code",
   "execution_count": null,
   "metadata": {},
   "outputs": [],
   "source": [
    "Lista1= ['Python',53,False,34,'¡Hola Mundo!']\n",
    "print(type(Lista1))\n",
    "print(Lista1)\n",
    "print(Lista1{-1})\n",
    "Lista1.append('37')\n",
    "Lista1.inset('Bienvenido a Python')\n",
    "Lista1.remove(1)\n",
    "Lista1.pop(2)\n",
    "print(Lista1.count(53))\n",
    "Lista1.reverse()\n",
    "Lista1.clear()\n",
    "print(Lista1)"
   ]
  },
  {
   "cell_type": "markdown",
   "metadata": {},
   "source": [
    "3.1.2 Aplicación de estructuras de datos con diccionarios"
   ]
  },
  {
   "cell_type": "markdown",
   "metadata": {},
   "source": [
    "Los diccionarios son estructuras de datos que almacenan elementos, no tiene un indice lineal cuentan con una clave unica que los reconoce de manera univoca."
   ]
  },
  {
   "cell_type": "code",
   "execution_count": null,
   "metadata": {},
   "outputs": [],
   "source": [
    "def run():\n",
    "    diccionario = {\n",
    "        'int': 14,\n",
    "        'str': 'Saludos',\n",
    "        'bool': True,\n",
    "        'float': 6.7\n",
    "    }\n",
    "    print(diccionario['bool'])\n",
    "if __name__ == '_main_':\n",
    "    run()"
   ]
  },
  {
   "cell_type": "markdown",
   "metadata": {},
   "source": [
    "3.2 Uso de funciones en procesamiento de datos"
   ]
  },
  {
   "cell_type": "markdown",
   "metadata": {},
   "source": [
    "Las funciones son de gran utilidad ya que facilitan comprender facilmente los datos almacenados, reutilizarlos, que sean mas eficientes y efectivos."
   ]
  },
  {
   "cell_type": "code",
   "execution_count": null,
   "metadata": {},
   "outputs": [],
   "source": [
    "def saludar():\n",
    "    print('hola')\n",
    "    def saludo(nombre):\n",
    "        print(f'hola, {nombre}')\n",
    "class_Punto:\n",
    "def __init__(self):\n",
    "                print('Esto es el init')\n",
    "import saludar\n",
    "saludar() \n",
    "print(saludar, saludo, class_punto)\n"
   ]
  },
  {
   "cell_type": "markdown",
   "metadata": {},
   "source": [
    "3.3 Optimización del rendimiento con funciones"
   ]
  },
  {
   "cell_type": "markdown",
   "metadata": {},
   "source": [
    "La optimizacion del rendimiento con funciones permite que el tiempo de ejecucion sea mas rapido y se puede lograr al minimizar variables estáticas y globales."
   ]
  },
  {
   "cell_type": "code",
   "execution_count": null,
   "metadata": {},
   "outputs": [],
   "source": [
    "def estudiante(nombre, apellido, lenguaje):\n",
    "    print('hola' + nombre + '' + apellido + 'estas aprendiendo' + lenguaje)\n",
    "estudiante (nombre = 'Luis', apellido= 'Carrillo', lenguaje= 'Frances')"
   ]
  },
  {
   "cell_type": "markdown",
   "metadata": {},
   "source": [
    "3.4 Comparación entre funciones definidas por el usuario y funciones integradas (len(),sum(), etc.)"
   ]
  },
  {
   "cell_type": "markdown",
   "metadata": {},
   "source": [
    "La comparacion entre funciones definidas por el usuario y las integradas esta en que las funciones definidas por el usuario pueden adaptarse para satifacer las necesidades especificas de una aplicacion el usuario define los nombres de als funciones, los parametros y su composicion dependiendo de funcionalidadse que requiera la funcion. En cambio las funciones integradas ya portan nombres y parámetros definidos y no puede ser modificados por el ususario."
   ]
  },
  {
   "cell_type": "code",
   "execution_count": null,
   "metadata": {},
   "outputs": [],
   "source": [
    "# Funcion definida por el usuario\n",
    "def area_triangulo(base,altura):\n",
    "    area = base * altura / 2\n",
    "    return area\n",
    "print(area_triangulo(10,5))\n",
    "#Funcion integrada\n",
    "nombres = 'Marta', 'Carlos', 'Natalia', 'Francisco'\n",
    "array_nombres = nombres.split(\",\")\n",
    "print(array_nombres)"
   ]
  },
  {
   "cell_type": "markdown",
   "metadata": {},
   "source": [
    "Resumen"
   ]
  },
  {
   "cell_type": "markdown",
   "metadata": {},
   "source": [
    "Con respecto a la compresion de la teria es de suma importancia conocer como desarrollar un programa ya que estos estan integrados por funciones variables y códigos que son utilizados en diferentes softwares hoy en día.  En cuanto la practica es necesario que el programador este en constate repeticion del desarrollo de códigos, ya que ppdra comprender con claridad la utlidad de las partes que conforman a un programa."
   ]
  },
  {
   "cell_type": "markdown",
   "metadata": {},
   "source": [
    "Análisis Personal"
   ]
  },
  {
   "cell_type": "markdown",
   "metadata": {},
   "source": [
    "Las funciones de Python son un bloque de código con instrucciones para el desarrollo de diferentes tareas que resguandan, mantienen y reutilizan la información para depurar un programa; el cual se desarrolla a base de códigos."
   ]
  },
  {
   "cell_type": "markdown",
   "metadata": {},
   "source": [
    "Referencias"
   ]
  },
  {
   "cell_type": "markdown",
   "metadata": {},
   "source": [
    "Codesala (2024) PHP INTERVIEW QUESTIONS. Codesala. Recuperado de: https://codesala.in/php/300-php-interview-questions-ranging-from-basic-to-advanced/describe-the-difference-between-user-defined-functions-and-built-in-functions/\n",
    "Cuvero, J., Cuvero, L., Cuvero, N., (2024) Iniciando a Programar con Python Guía básica de pragramación, Universidad Pedagógica y Tecnológica de Colombia. Colombia. Recuperado de: https://www.google.co.cr/books/edition/Iniciando_a_Programar_con_Python/GpYkEQAAQBAJ?hl=es&gbpv=1&dq=que+son+las+funciones+con+parametros&pg=PA159&printsec=frontcover\n",
    "geeksforgeeks (2024) ¿En qué se diferencia la función definida por el usuario de la función incorporada en PHP? geeksforgeek. Recuperado de: https://www.geeksforgeeks.org/how-the-user-defined-function-differs-from-built-in-function-in-php/\n",
    "Macías, M (2021) PROGRAMACIÓN EN GO, AlphaEditorial. Recuperado: https://www.google.co.cr/books/edition/Programaci%C3%B3n_en_GO/sc16EAAAQBAJ?hl=es&gbpv=1&dq=estructuras+de+datos+diccionarios+en+programacion&pg=PA85&printsec=frontcover\n",
    "IBM (2024) Elección de tipos de datos para mejorar el rendimiento. IBM. Recuperado de: https://www.ibm.com/docs/es/i/7.5?topic=performance-choosing-data-types-improve\n",
    "Souza, M., (a.a) APRENDE TODO SOBRE Python, Gavea Lab. https://www.google.co.cr/books/edition/APRENDE_TODO_SOBRE_Python/eyDQEAAAQBAJ?hl=es&gbpv=1&dq=importancia+de+la+reutilizacion+del+codigo&pg=PA31&printsec=frontcover\n",
    "Moreno, A., Córcoles, S., (2019) Python prático Herramientas, conceptos, técnicas, RA-MA. España. Recuperado de: https://www.google.co.cr/books/edition/Python_Pr%C3%A1ctico/q8-4EAAAQBAJ?hl=es&gbpv=1&dq=Que+son+las+funciones+en+Python&pg=PT109&printsec=frontcover\n",
    "Mundo Python (2021) ¿Qué es args y kwargs en python? Recuperado de: https://www.youtube.com/watch?v=9iBRkmpav0Y\n",
    "Pineda, C., (2022) Aprendizaje automático y profundo en Python Una mirada hacia la inteligencia artificial, Ra-Ma. Colombia. Recuperado de: https://www.google.co.cr/books/edition/Aprendizaje_autom%C3%A1tico_y_profundo_en_Py/NEi9EAAAQBAJ?hl=es&gbpv=1&dq=estructuras+de+datos+diccionarios+en+programacion&pg=PA7&printsec=frontcover\n",
    "diego moisset de espanes (2021) Valores predeterminados (create default) Recuperado de: https://www.youtube.com/watch?v=LisIFFBi6Fs\n",
    "Reyes; X., (2024) Aprende Python desde cero hasta avanzado Con ejercicios prácticos y contenido bonus, Book Sheller GmbH. Recuperado de: https://www.google.co.cr/books/edition/Aprende_Python_desde_cero_hasta_avanzado/cKEkEQAAQBAJ?hl=es&gbpv=1&dq=funciones+con+retorno+y+sin+retorno+en+programacion&pg=PT75&printsec=frontcover\n"
   ]
  }
 ],
 "metadata": {
  "kernelspec": {
   "display_name": "Python 3",
   "language": "python",
   "name": "python3"
  },
  "language_info": {
   "codemirror_mode": {
    "name": "ipython",
    "version": 3
   },
   "file_extension": ".py",
   "mimetype": "text/x-python",
   "name": "python",
   "nbconvert_exporter": "python",
   "pygments_lexer": "ipython3",
   "version": "3.13.1"
  }
 },
 "nbformat": 4,
 "nbformat_minor": 2
}
